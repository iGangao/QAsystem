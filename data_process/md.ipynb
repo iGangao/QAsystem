{
 "cells": [
  {
   "cell_type": "code",
   "execution_count": 43,
   "metadata": {},
   "outputs": [],
   "source": [
    "import markdown\n",
    "import os\n",
    "import json\n",
    "md_path = os.listdir(\"/data2/QAdata/02-interview\")\n",
    "\n",
    "for md_file in md_path:\n",
    "\n",
    "    markdown_file_path = os.path.join(\"/data2/QAdata/02-interview\", md_file)\n",
    "    # print(markdown_file_path)\n",
    "    # 打开 Markdown 文件并读取内容\n",
    "    with open(markdown_file_path, \"r\", encoding=\"utf-8\") as file:\n",
    "        markdown_content = file.read()\n",
    "\n",
    "    html_output = markdown.markdown(markdown_content)\n",
    "\n",
    "    # 解析 HTML 并查找二级标题\n",
    "    from bs4 import BeautifulSoup\n",
    "\n",
    "    soup = BeautifulSoup(html_output, \"html.parser\")\n",
    "    soup.div.extract()\n",
    "    tag = soup.find(\"h2\")\n",
    "    question = tag.text\n",
    "    answer = \"\"\n",
    "    while tag:\n",
    "        if tag.name!='h2':\n",
    "            answer += tag.text\n",
    "        elif answer!=\"\":\n",
    "            with open(\"/data2/QAdata/02-interview.json\", \"a\", encoding=\"utf-8\") as json_file:\n",
    "                data = {\n",
    "                    \"Q\": question,\n",
    "                    \"A\": answer,\n",
    "                }\n",
    "                json_file.write(json.dumps(data, ensure_ascii=False, indent=4) + \"\\n\")\n",
    "            question = tag.text\n",
    "            answer = \"\"\n",
    "        tag = tag.next_sibling\n",
    "    "
   ]
  },
  {
   "cell_type": "code",
   "execution_count": 37,
   "metadata": {},
   "outputs": [],
   "source": [
    "tag = soup.find(\"h2\")\n",
    "question = tag.text\n",
    "answer = \"\"\n",
    "while tag:\n",
    "    if tag.name!='h2':\n",
    "        answer += tag.text\n",
    "    else:\n",
    "        with open(\"/data2/QAdata/1.txt\", \"a\") as file:\n",
    "            file.write(question + '\\n'+ answer + \"\\n\")\n",
    "        question = tag.text\n",
    "        answer = \"\"\n",
    "    tag = tag.next_sibling\n",
    "\n"
   ]
  }
 ],
 "metadata": {
  "kernelspec": {
   "display_name": "langchain-ChatGLM",
   "language": "python",
   "name": "python3"
  },
  "language_info": {
   "codemirror_mode": {
    "name": "ipython",
    "version": 3
   },
   "file_extension": ".py",
   "mimetype": "text/x-python",
   "name": "python",
   "nbconvert_exporter": "python",
   "pygments_lexer": "ipython3",
   "version": "3.8.16"
  },
  "orig_nbformat": 4
 },
 "nbformat": 4,
 "nbformat_minor": 2
}
